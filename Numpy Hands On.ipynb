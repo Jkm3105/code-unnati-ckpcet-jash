{
 "cells": [
  {
   "cell_type": "markdown",
   "id": "e66d416e",
   "metadata": {},
   "source": [
    "# Numpy"
   ]
  },
  {
   "cell_type": "code",
   "execution_count": 1,
   "id": "10ad4e7a",
   "metadata": {},
   "outputs": [],
   "source": [
    "import numpy as np"
   ]
  },
  {
   "cell_type": "code",
   "execution_count": 4,
   "id": "e6c8fa18",
   "metadata": {},
   "outputs": [],
   "source": [
    "#creating numpy array\n",
    "arr=np.array([[1,2,3,4],[5,6,7,8]])\n"
   ]
  },
  {
   "cell_type": "code",
   "execution_count": 5,
   "id": "af380117",
   "metadata": {},
   "outputs": [
    {
     "data": {
      "text/plain": [
       "numpy.ndarray"
      ]
     },
     "execution_count": 5,
     "metadata": {},
     "output_type": "execute_result"
    }
   ],
   "source": [
    "type(arr)"
   ]
  },
  {
   "cell_type": "code",
   "execution_count": 6,
   "id": "8ec94e86",
   "metadata": {},
   "outputs": [
    {
     "name": "stdout",
     "output_type": "stream",
     "text": [
      "2\n"
     ]
    }
   ],
   "source": [
    "#dimension of array\n",
    "print(arr.ndim)"
   ]
  },
  {
   "cell_type": "code",
   "execution_count": 7,
   "id": "ff9e9f07",
   "metadata": {},
   "outputs": [
    {
     "name": "stdout",
     "output_type": "stream",
     "text": [
      "(2, 4)\n"
     ]
    }
   ],
   "source": [
    "#shape of array\n",
    "print(arr.shape)"
   ]
  },
  {
   "cell_type": "code",
   "execution_count": 8,
   "id": "2fa26d49",
   "metadata": {},
   "outputs": [],
   "source": [
    "#1d array\n",
    "a=np.array([1,2,3,4])"
   ]
  },
  {
   "cell_type": "code",
   "execution_count": 9,
   "id": "3a77374b",
   "metadata": {},
   "outputs": [
    {
     "data": {
      "text/plain": [
       "1"
      ]
     },
     "execution_count": 9,
     "metadata": {},
     "output_type": "execute_result"
    }
   ],
   "source": [
    "a.ndim"
   ]
  },
  {
   "cell_type": "code",
   "execution_count": 10,
   "id": "fde96bb8",
   "metadata": {},
   "outputs": [
    {
     "data": {
      "text/plain": [
       "(4,)"
      ]
     },
     "execution_count": 10,
     "metadata": {},
     "output_type": "execute_result"
    }
   ],
   "source": [
    "a.shape"
   ]
  },
  {
   "cell_type": "code",
   "execution_count": 14,
   "id": "5888374a",
   "metadata": {},
   "outputs": [
    {
     "name": "stdout",
     "output_type": "stream",
     "text": [
      "[[ 1  2  3  4  5]\n",
      " [ 6  7  8  9 10]\n",
      " [11 12 13 14 15]]\n"
     ]
    }
   ],
   "source": [
    "arr2=np.array([[1,2,3,4,5],[6,7,8,9,10],[11,12,13,14,15]])\n",
    "print(arr2)"
   ]
  },
  {
   "cell_type": "code",
   "execution_count": 12,
   "id": "398d63e9",
   "metadata": {},
   "outputs": [
    {
     "data": {
      "text/plain": [
       "(3, 5)"
      ]
     },
     "execution_count": 12,
     "metadata": {},
     "output_type": "execute_result"
    }
   ],
   "source": [
    "arr2.shape"
   ]
  },
  {
   "cell_type": "code",
   "execution_count": 13,
   "id": "43df9b8e",
   "metadata": {},
   "outputs": [
    {
     "data": {
      "text/plain": [
       "2"
      ]
     },
     "execution_count": 13,
     "metadata": {},
     "output_type": "execute_result"
    }
   ],
   "source": [
    "arr2.ndim"
   ]
  },
  {
   "cell_type": "code",
   "execution_count": 15,
   "id": "8207a58d",
   "metadata": {},
   "outputs": [
    {
     "name": "stdout",
     "output_type": "stream",
     "text": [
      "<memory at 0x0000025E398A01E0>\n"
     ]
    }
   ],
   "source": [
    "#show memory location where data is stored\n",
    "print(arr2.data)"
   ]
  },
  {
   "cell_type": "markdown",
   "id": "7400c0b6",
   "metadata": {},
   "source": [
    "# Random Number Generator using numpy"
   ]
  },
  {
   "cell_type": "code",
   "execution_count": 16,
   "id": "697a0ef2",
   "metadata": {},
   "outputs": [],
   "source": [
    "from numpy import random\n",
    "\n"
   ]
  },
  {
   "cell_type": "code",
   "execution_count": 21,
   "id": "f1f23bbf",
   "metadata": {},
   "outputs": [
    {
     "name": "stdout",
     "output_type": "stream",
     "text": [
      "1\n"
     ]
    }
   ],
   "source": [
    "x=random.randint(100)\n",
    "print(x)"
   ]
  },
  {
   "cell_type": "code",
   "execution_count": 22,
   "id": "04e8cddb",
   "metadata": {},
   "outputs": [
    {
     "name": "stdout",
     "output_type": "stream",
     "text": [
      "636\n",
      "413\n",
      "135\n",
      "666\n",
      "865\n"
     ]
    }
   ],
   "source": [
    "for i in range(0,5):\n",
    "    print(random.randint(1000))"
   ]
  },
  {
   "cell_type": "code",
   "execution_count": 23,
   "id": "6da0d2c7",
   "metadata": {},
   "outputs": [],
   "source": [
    "x=random.randint(1000)\n",
    "y=random.randint(1000)\n",
    "z=random.randint(1000)"
   ]
  },
  {
   "cell_type": "code",
   "execution_count": 24,
   "id": "92517738",
   "metadata": {},
   "outputs": [
    {
     "name": "stdout",
     "output_type": "stream",
     "text": [
      "28 754 201\n"
     ]
    }
   ],
   "source": [
    "print(x,y,z)"
   ]
  },
  {
   "cell_type": "code",
   "execution_count": 25,
   "id": "0bb91299",
   "metadata": {},
   "outputs": [
    {
     "name": "stdout",
     "output_type": "stream",
     "text": [
      "0.4945361030914466\n"
     ]
    }
   ],
   "source": [
    "#float random no\n",
    "x=random.rand()\n",
    "print(x)"
   ]
  },
  {
   "cell_type": "code",
   "execution_count": 26,
   "id": "37654b81",
   "metadata": {},
   "outputs": [
    {
     "name": "stdout",
     "output_type": "stream",
     "text": [
      "0.9454317470029789\n",
      "0.58937478590023\n",
      "0.9899544506677583\n",
      "0.8712601408803423\n",
      "0.9438368857023787\n"
     ]
    }
   ],
   "source": [
    "for x in range(0,5):\n",
    "    print(random.rand())"
   ]
  },
  {
   "cell_type": "code",
   "execution_count": 30,
   "id": "e76b3ba4",
   "metadata": {},
   "outputs": [
    {
     "name": "stdout",
     "output_type": "stream",
     "text": [
      "[[91 50 87 63 93 69 24]\n",
      " [82 65 72 48 97 14 48]\n",
      " [ 4 48 33 93 77 48 10]\n",
      " [61 35 39 81 14 25 66]\n",
      " [46 39 89  4 94 37 40]]\n"
     ]
    }
   ],
   "source": [
    "#generate random array\n",
    "from numpy import random\n",
    "x=random.randint(100,size=(5,7))\n",
    "print(x)"
   ]
  },
  {
   "cell_type": "code",
   "execution_count": 32,
   "id": "9a868384",
   "metadata": {},
   "outputs": [
    {
     "data": {
      "text/plain": [
       "(5, 7)"
      ]
     },
     "execution_count": 32,
     "metadata": {},
     "output_type": "execute_result"
    }
   ],
   "source": [
    "x.shape\n"
   ]
  },
  {
   "cell_type": "code",
   "execution_count": 33,
   "id": "dcf10d7b",
   "metadata": {},
   "outputs": [
    {
     "data": {
      "text/plain": [
       "2"
      ]
     },
     "execution_count": 33,
     "metadata": {},
     "output_type": "execute_result"
    }
   ],
   "source": [
    "x.ndim"
   ]
  },
  {
   "cell_type": "markdown",
   "id": "45251984",
   "metadata": {},
   "source": [
    "# Measurement of central tendency\n"
   ]
  },
  {
   "cell_type": "code",
   "execution_count": 34,
   "id": "3b6a0e37",
   "metadata": {},
   "outputs": [
    {
     "name": "stdout",
     "output_type": "stream",
     "text": [
      "[[  1   2   3]\n",
      " [ 98  99 100]\n",
      " [ 67  88  90]]\n",
      "1\n",
      "100\n"
     ]
    }
   ],
   "source": [
    "import numpy as np\n",
    "arr=np.array([[1,2,3,],[98,99,100],[67,88,90]])\n",
    "print(arr)\n",
    "#min function \n",
    "print(np.amin(arr))\n",
    "#max function\n",
    "print(np.amax(arr))"
   ]
  },
  {
   "cell_type": "code",
   "execution_count": 35,
   "id": "128e7b4a",
   "metadata": {},
   "outputs": [
    {
     "name": "stdout",
     "output_type": "stream",
     "text": [
      "60.888888888888886\n"
     ]
    }
   ],
   "source": [
    "#finding mean,median,standard deviation and varaiance in Numpy\n",
    "print(np.mean(arr))"
   ]
  },
  {
   "cell_type": "code",
   "execution_count": 36,
   "id": "f2fea495",
   "metadata": {},
   "outputs": [
    {
     "data": {
      "text/plain": [
       "88.0"
      ]
     },
     "execution_count": 36,
     "metadata": {},
     "output_type": "execute_result"
    }
   ],
   "source": [
    "#median \n",
    "np.median(arr)"
   ]
  },
  {
   "cell_type": "code",
   "execution_count": 37,
   "id": "9d41bf86",
   "metadata": {},
   "outputs": [
    {
     "data": {
      "text/plain": [
       "42.66782405837616"
      ]
     },
     "execution_count": 37,
     "metadata": {},
     "output_type": "execute_result"
    }
   ],
   "source": [
    "#standard deviation\n",
    "np.std(arr)"
   ]
  },
  {
   "cell_type": "code",
   "execution_count": 38,
   "id": "255aa853",
   "metadata": {},
   "outputs": [
    {
     "data": {
      "text/plain": [
       "1820.5432098765434"
      ]
     },
     "execution_count": 38,
     "metadata": {},
     "output_type": "execute_result"
    }
   ],
   "source": [
    "#variance\n",
    "np.var(arr)"
   ]
  },
  {
   "cell_type": "markdown",
   "id": "b6c6284e",
   "metadata": {},
   "source": [
    "# Array brodcasting using Numpy"
   ]
  },
  {
   "cell_type": "code",
   "execution_count": 39,
   "id": "eb939468",
   "metadata": {},
   "outputs": [
    {
     "name": "stdout",
     "output_type": "stream",
     "text": [
      "[5. 7. 9.]\n",
      "[-3. -3. -3.]\n",
      "[ 4. 10. 18.]\n",
      "[0.25 0.4  0.5 ]\n",
      "[0. 0. 0.]\n"
     ]
    }
   ],
   "source": [
    "# various operation btw. array can be said as broadcasting \n",
    "a=np.array([1.0,2.0,3.0])\n",
    "b=np.array([4.0,5.0,6.0])\n",
    "print(a+b)\n",
    "print(a-b)\n",
    "print(a*b)\n",
    "print(a/b)\n",
    "print(a//b)"
   ]
  },
  {
   "cell_type": "code",
   "execution_count": null,
   "id": "00a5e470",
   "metadata": {},
   "outputs": [],
   "source": []
  }
 ],
 "metadata": {
  "kernelspec": {
   "display_name": "Python 3 (ipykernel)",
   "language": "python",
   "name": "python3"
  },
  "language_info": {
   "codemirror_mode": {
    "name": "ipython",
    "version": 3
   },
   "file_extension": ".py",
   "mimetype": "text/x-python",
   "name": "python",
   "nbconvert_exporter": "python",
   "pygments_lexer": "ipython3",
   "version": "3.9.12"
  }
 },
 "nbformat": 4,
 "nbformat_minor": 5
}
