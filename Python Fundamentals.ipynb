{
 "cells": [
  {
   "cell_type": "markdown",
   "id": "485ddf14",
   "metadata": {},
   "source": [
    "# Unit 1 Python Fundamentals:"
   ]
  },
  {
   "cell_type": "code",
   "execution_count": 3,
   "id": "ee4d000a",
   "metadata": {},
   "outputs": [
    {
     "name": "stdout",
     "output_type": "stream",
     "text": [
      "namaste ckpcet\n"
     ]
    }
   ],
   "source": [
    "#my first program\n",
    "print(\"namaste ckpcet\")\n"
   ]
  },
  {
   "cell_type": "code",
   "execution_count": 2,
   "id": "f307a983",
   "metadata": {},
   "outputs": [
    {
     "name": "stdout",
     "output_type": "stream",
     "text": [
      "hello surat\n"
     ]
    }
   ],
   "source": [
    "print(\"hello surat\")"
   ]
  },
  {
   "cell_type": "code",
   "execution_count": 4,
   "id": "ebb8e865",
   "metadata": {},
   "outputs": [
    {
     "data": {
      "text/plain": [
       "33"
      ]
     },
     "execution_count": 4,
     "metadata": {},
     "output_type": "execute_result"
    }
   ],
   "source": [
    "#varaible and data types\n",
    "a=33\n",
    "a"
   ]
  },
  {
   "cell_type": "code",
   "execution_count": 7,
   "id": "5d36462e",
   "metadata": {},
   "outputs": [
    {
     "name": "stdout",
     "output_type": "stream",
     "text": [
      "12\n",
      "200.5\n",
      "intel corporation\n",
      "True\n"
     ]
    }
   ],
   "source": [
    "var1 = 12 #int\n",
    "var2 = 200.50 #float\n",
    "var3 = \"intel corporation\" # string\n",
    "var4 = True # boolean\n",
    "print(var1)\n",
    "print(var2)\n",
    "print(var3)\n",
    "print(var4)"
   ]
  },
  {
   "cell_type": "code",
   "execution_count": 9,
   "id": "a5fb0ada",
   "metadata": {},
   "outputs": [
    {
     "name": "stdout",
     "output_type": "stream",
     "text": [
      "<class 'int'>\n",
      "<class 'float'>\n",
      "<class 'str'>\n",
      "<class 'bool'>\n"
     ]
    }
   ],
   "source": [
    "print(type(var1))\n",
    "print(type(var2))\n",
    "print(type(var3))\n",
    "print(type(var4))\n"
   ]
  },
  {
   "cell_type": "code",
   "execution_count": 10,
   "id": "89eea7a4",
   "metadata": {},
   "outputs": [
    {
     "name": "stdout",
     "output_type": "stream",
     "text": [
      "15\n",
      "14.33\n",
      "hello\n",
      "False\n",
      "4444444\n",
      "128707\n",
      "Hi\n",
      "True\n",
      "ABCDEFGHIJK\n",
      "Hii you are great\n",
      "true\n",
      "false\n",
      "TRUE\n",
      "99\n",
      "2.0\n"
     ]
    }
   ],
   "source": [
    "a = 15\n",
    "b = 14.33\n",
    "c = \"hello\"\n",
    "d = False\n",
    "e = 4444444\n",
    "f = 643535//5\n",
    "g = \"Hi\"\n",
    "h = True\n",
    "i = \"ABCDEFGHIJK\"\n",
    "j = \"Hii you are great\"\n",
    "k = \"true\"\n",
    "l = \"false\"\n",
    "m = \"TRUE\"\n",
    "n = 99**1\n",
    "o = 38/19\n",
    "print(a)\n",
    "print(b)\n",
    "print(c)\n",
    "print(d)\n",
    "print(e)\n",
    "print(f)\n",
    "print(g)\n",
    "print(h)\n",
    "print(i)\n",
    "print(j)\n",
    "print(k)\n",
    "print(l)\n",
    "print(m)\n",
    "print(n)\n",
    "print(o)"
   ]
  },
  {
   "cell_type": "code",
   "execution_count": 11,
   "id": "c59b0051",
   "metadata": {},
   "outputs": [
    {
     "name": "stdout",
     "output_type": "stream",
     "text": [
      "<class 'int'>\n",
      "<class 'float'>\n",
      "<class 'str'>\n",
      "<class 'bool'>\n",
      "<class 'int'>\n",
      "<class 'int'>\n",
      "<class 'str'>\n",
      "<class 'bool'>\n",
      "<class 'str'>\n",
      "<class 'str'>\n",
      "<class 'str'>\n",
      "<class 'str'>\n",
      "<class 'str'>\n",
      "<class 'int'>\n",
      "<class 'float'>\n"
     ]
    }
   ],
   "source": [
    "print(type(a))\n",
    "print(type(b))\n",
    "print(type(c))\n",
    "print(type(d))\n",
    "print(type(e))\n",
    "print(type(f))\n",
    "print(type(g))\n",
    "print(type(h))\n",
    "print(type(i))\n",
    "print(type(j))\n",
    "print(type(k))\n",
    "print(type(l))\n",
    "print(type(m))\n",
    "print(type(n))\n",
    "print(type(o))\n"
   ]
  },
  {
   "cell_type": "code",
   "execution_count": 16,
   "id": "1b3851d8",
   "metadata": {},
   "outputs": [
    {
     "name": "stdout",
     "output_type": "stream",
     "text": [
      "29.33\n",
      "0.6699999999999999\n",
      "214.95\n",
      "1.0467550593161201\n",
      "7.134897563263078e+16\n",
      "1.0\n"
     ]
    }
   ],
   "source": [
    " #math operations on varaible\n",
    "p=a+b\n",
    "q=a-b\n",
    "r=a*b\n",
    "s=a/b\n",
    "t=a**b\n",
    "u=a//b\n",
    "print(p)\n",
    "print(q)\n",
    "print(r)\n",
    "print(s)\n",
    "print(t)\n",
    "print(u)\n"
   ]
  },
  {
   "cell_type": "markdown",
   "id": "1c2c0893",
   "metadata": {},
   "source": [
    "## Input from user\n"
   ]
  },
  {
   "cell_type": "code",
   "execution_count": 18,
   "id": "53fa7ef2",
   "metadata": {},
   "outputs": [
    {
     "name": "stdout",
     "output_type": "stream",
     "text": [
      "Enter the value of x: 5\n",
      "Enter the value of y: 6\n"
     ]
    }
   ],
   "source": [
    "# use input from keyboard\n",
    "x = int(input(\"Enter the value of x: \"))\n",
    "y = int(input(\"Enter the value of y: \"))\n"
   ]
  },
  {
   "cell_type": "code",
   "execution_count": 19,
   "id": "62232828",
   "metadata": {},
   "outputs": [
    {
     "name": "stdout",
     "output_type": "stream",
     "text": [
      "11\n",
      "30\n"
     ]
    }
   ],
   "source": [
    "z=x+y\n",
    "o=x*y\n",
    "print(z)\n",
    "print(o)"
   ]
  },
  {
   "cell_type": "markdown",
   "id": "6f689bac",
   "metadata": {},
   "source": [
    "# String concatenation"
   ]
  },
  {
   "cell_type": "code",
   "execution_count": 24,
   "id": "d43887ad",
   "metadata": {},
   "outputs": [
    {
     "name": "stdout",
     "output_type": "stream",
     "text": [
      "American Eagle\n"
     ]
    }
   ],
   "source": [
    "s1=\"American\"\n",
    "s2=\"Eagle\"\n",
    "s3=s1+\" \"+s2\n",
    "print(s3)"
   ]
  },
  {
   "cell_type": "code",
   "execution_count": 25,
   "id": "26843189",
   "metadata": {},
   "outputs": [
    {
     "name": "stdout",
     "output_type": "stream",
     "text": [
      "Jash Kabir Mehta\n"
     ]
    }
   ],
   "source": [
    "st1=\"Jash\"\n",
    "st2=\"Kabir\"\n",
    "st3=\"Mehta\"\n",
    "st=st1+ \" \"+st2+\" \"+st3\n",
    "print(st)"
   ]
  },
  {
   "cell_type": "code",
   "execution_count": 29,
   "id": "7ab26828",
   "metadata": {},
   "outputs": [
    {
     "name": "stdout",
     "output_type": "stream",
     "text": [
      "Jash Kabir Mehta\n",
      "<class 'str'>\n",
      "16\n"
     ]
    }
   ],
   "source": [
    "print(st)\n",
    "print(type(st))\n",
    "print(len(st))"
   ]
  },
  {
   "cell_type": "markdown",
   "id": "4e4cdf18",
   "metadata": {},
   "source": [
    "# string slicing"
   ]
  },
  {
   "cell_type": "code",
   "execution_count": 31,
   "id": "34a4e8a8",
   "metadata": {},
   "outputs": [
    {
     "name": "stdout",
     "output_type": "stream",
     "text": [
      "Jash Kabir Mehta\n"
     ]
    },
    {
     "data": {
      "text/plain": [
       "'Jash '"
      ]
     },
     "execution_count": 31,
     "metadata": {},
     "output_type": "execute_result"
    }
   ],
   "source": [
    "print(st)\n",
    "st[0:5]"
   ]
  },
  {
   "cell_type": "code",
   "execution_count": 32,
   "id": "a7416a33",
   "metadata": {},
   "outputs": [
    {
     "data": {
      "text/plain": [
       "'Jash Kabir Meht'"
      ]
     },
     "execution_count": 32,
     "metadata": {},
     "output_type": "execute_result"
    }
   ],
   "source": [
    "st[0:-1]"
   ]
  },
  {
   "cell_type": "code",
   "execution_count": 33,
   "id": "109b7ed9",
   "metadata": {},
   "outputs": [
    {
     "data": {
      "text/plain": [
       "'a'"
      ]
     },
     "execution_count": 33,
     "metadata": {},
     "output_type": "execute_result"
    }
   ],
   "source": [
    "st[-1]"
   ]
  },
  {
   "cell_type": "code",
   "execution_count": 34,
   "id": "387f693b",
   "metadata": {},
   "outputs": [
    {
     "data": {
      "text/plain": [
       "'Mehta'"
      ]
     },
     "execution_count": 34,
     "metadata": {},
     "output_type": "execute_result"
    }
   ],
   "source": [
    "st[11:17]"
   ]
  },
  {
   "cell_type": "markdown",
   "id": "d1653f00",
   "metadata": {},
   "source": [
    "# tuple\n"
   ]
  },
  {
   "cell_type": "code",
   "execution_count": 35,
   "id": "36bde1b3",
   "metadata": {},
   "outputs": [
    {
     "name": "stdout",
     "output_type": "stream",
     "text": [
      "('parul', 22, 'jash', 43.4, 'surat')\n",
      "<class 'tuple'>\n"
     ]
    }
   ],
   "source": [
    "tup1 = (\"parul\",22,\"jash\",43.4,\"surat\")\n",
    "print(tup1)\n",
    "print(type(tup1))"
   ]
  },
  {
   "cell_type": "code",
   "execution_count": 40,
   "id": "bb23176e",
   "metadata": {},
   "outputs": [
    {
     "data": {
      "text/plain": [
       "43.4"
      ]
     },
     "execution_count": 40,
     "metadata": {},
     "output_type": "execute_result"
    }
   ],
   "source": [
    "tup1[3]"
   ]
  },
  {
   "cell_type": "code",
   "execution_count": 41,
   "id": "7811c9e9",
   "metadata": {},
   "outputs": [
    {
     "data": {
      "text/plain": [
       "('jash', 43.4)"
      ]
     },
     "execution_count": 41,
     "metadata": {},
     "output_type": "execute_result"
    }
   ],
   "source": [
    "tup1[2:4]"
   ]
  },
  {
   "cell_type": "code",
   "execution_count": 42,
   "id": "4f8016c6",
   "metadata": {},
   "outputs": [
    {
     "name": "stdout",
     "output_type": "stream",
     "text": [
      "('parul', 22, 'jash', 43.4, 'surat', 'python', 45)\n"
     ]
    }
   ],
   "source": [
    "tup2=(\"python\",45)\n",
    "tup3=tup1+tup2\n",
    "print(tup3)"
   ]
  },
  {
   "cell_type": "code",
   "execution_count": 43,
   "id": "d1d4a9a5",
   "metadata": {},
   "outputs": [
    {
     "ename": "TypeError",
     "evalue": "'tuple' object doesn't support item deletion",
     "output_type": "error",
     "traceback": [
      "\u001b[1;31m---------------------------------------------------------------------------\u001b[0m",
      "\u001b[1;31mTypeError\u001b[0m                                 Traceback (most recent call last)",
      "Input \u001b[1;32mIn [43]\u001b[0m, in \u001b[0;36m<cell line: 2>\u001b[1;34m()\u001b[0m\n\u001b[0;32m      1\u001b[0m \u001b[38;5;66;03m##immutable \u001b[39;00m\n\u001b[1;32m----> 2\u001b[0m \u001b[38;5;28;01mdel\u001b[39;00m tup3[\u001b[38;5;241m1\u001b[39m]\n",
      "\u001b[1;31mTypeError\u001b[0m: 'tuple' object doesn't support item deletion"
     ]
    }
   ],
   "source": [
    "##immutable \n",
    "del tup3[1]"
   ]
  },
  {
   "cell_type": "markdown",
   "id": "99e557c0",
   "metadata": {},
   "source": [
    "# list "
   ]
  },
  {
   "cell_type": "code",
   "execution_count": 45,
   "id": "2b1a152e",
   "metadata": {},
   "outputs": [
    {
     "name": "stdout",
     "output_type": "stream",
     "text": [
      "<class 'list'>\n"
     ]
    }
   ],
   "source": [
    "l1=[\"avd\",344,\"ododpod\",30202]\n",
    "print(type(l1))"
   ]
  },
  {
   "cell_type": "code",
   "execution_count": 48,
   "id": "45b2f9e7",
   "metadata": {},
   "outputs": [
    {
     "data": {
      "text/plain": [
       "4"
      ]
     },
     "execution_count": 48,
     "metadata": {},
     "output_type": "execute_result"
    }
   ],
   "source": [
    "len(l1)"
   ]
  },
  {
   "cell_type": "code",
   "execution_count": 49,
   "id": "9a2cf3ce",
   "metadata": {},
   "outputs": [],
   "source": [
    "l1.remove(344)"
   ]
  },
  {
   "cell_type": "code",
   "execution_count": 50,
   "id": "e489842f",
   "metadata": {},
   "outputs": [
    {
     "data": {
      "text/plain": [
       "['avd', 'ododpod', 30202]"
      ]
     },
     "execution_count": 50,
     "metadata": {},
     "output_type": "execute_result"
    }
   ],
   "source": [
    "l1"
   ]
  },
  {
   "cell_type": "markdown",
   "id": "cf9a6b24",
   "metadata": {},
   "source": [
    "## Dictionary "
   ]
  },
  {
   "cell_type": "code",
   "execution_count": 52,
   "id": "8d792b7a",
   "metadata": {},
   "outputs": [
    {
     "name": "stdout",
     "output_type": "stream",
     "text": [
      "{'university': 'surat', 'age': 40, 'course': 'python', 'language': 'english'}\n",
      "<class 'dict'>\n"
     ]
    },
    {
     "data": {
      "text/plain": [
       "4"
      ]
     },
     "execution_count": 52,
     "metadata": {},
     "output_type": "execute_result"
    }
   ],
   "source": [
    "dict1={\"university\":\"surat\",\"age\":40,\"course\":\"python\",\"language\":\"english\"}\n",
    "print(dict1)\n",
    "print(type(dict1))\n",
    "len(dict1)"
   ]
  },
  {
   "cell_type": "markdown",
   "id": "c4af997a",
   "metadata": {},
   "source": [
    "# installing libraries"
   ]
  },
  {
   "cell_type": "code",
   "execution_count": null,
   "id": "3685d7d8",
   "metadata": {},
   "outputs": [],
   "source": [
    "#!pip install<package name>\n",
    "#!conda install<package> #for using anaconda"
   ]
  },
  {
   "cell_type": "markdown",
   "id": "e656af3f",
   "metadata": {},
   "source": [
    "# Conditional statement"
   ]
  },
  {
   "cell_type": "code",
   "execution_count": 55,
   "id": "766ddb12",
   "metadata": {},
   "outputs": [
    {
     "name": "stdout",
     "output_type": "stream",
     "text": [
      "5 a positive number\n",
      "its true\n"
     ]
    }
   ],
   "source": [
    "#if statement\n",
    "num=5\n",
    "if num > 0:\n",
    "    print(num,\"a positive number\")\n",
    "    print(\"its true\")"
   ]
  },
  {
   "cell_type": "code",
   "execution_count": 57,
   "id": "0af93f48",
   "metadata": {},
   "outputs": [
    {
     "name": "stdout",
     "output_type": "stream",
     "text": [
      "-5 it is negative number\n"
     ]
    }
   ],
   "source": [
    "#if else statement\n",
    "num=-5\n",
    "if num > 0:\n",
    "    print(num,\"a positive number\")\n",
    "else:\n",
    "    print(num,\"it is negative number\")"
   ]
  },
  {
   "cell_type": "code",
   "execution_count": null,
   "id": "390cbbde",
   "metadata": {},
   "outputs": [],
   "source": []
  }
 ],
 "metadata": {
  "kernelspec": {
   "display_name": "Python 3 (ipykernel)",
   "language": "python",
   "name": "python3"
  },
  "language_info": {
   "codemirror_mode": {
    "name": "ipython",
    "version": 3
   },
   "file_extension": ".py",
   "mimetype": "text/x-python",
   "name": "python",
   "nbconvert_exporter": "python",
   "pygments_lexer": "ipython3",
   "version": "3.9.12"
  }
 },
 "nbformat": 4,
 "nbformat_minor": 5
}
